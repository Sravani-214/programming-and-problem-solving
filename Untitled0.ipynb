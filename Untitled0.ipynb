{
  "nbformat": 4,
  "nbformat_minor": 0,
  "metadata": {
    "colab": {
      "name": "Untitled0.ipynb",
      "version": "0.3.2",
      "provenance": []
    },
    "kernelspec": {
      "name": "python3",
      "display_name": "Python 3"
    }
  },
  "cells": [
    {
      "cell_type": "code",
      "metadata": {
        "id": "JrX95vH1exFY",
        "colab_type": "code",
        "colab": {
          "base_uri": "https://localhost:8080/",
          "height": 51
        },
        "outputId": "968897e4-6a55-4440-e7af-f0bd7e7f8757"
      },
      "source": [
        "def printNNaturalNumbers(n):\n",
        "    cnt=1;\n",
        "    while(cnt<=n):\n",
        "        print(cnt,end=\"\");\n",
        "        cnt=cnt+1;\n",
        "    print()\n",
        "    return\n",
        "\n",
        "printNNaturalNumbers(9);\n",
        "printNNaturalNumbers(15);"
      ],
      "execution_count": 1,
      "outputs": [
        {
          "output_type": "stream",
          "text": [
            "123456789\n",
            "123456789101112131415\n"
          ],
          "name": "stdout"
        }
      ]
    },
    {
      "cell_type": "code",
      "metadata": {
        "id": "U1Oi-yHQfA0K",
        "colab_type": "code",
        "colab": {
          "base_uri": "https://localhost:8080/",
          "height": 85
        },
        "outputId": "bed1990e-0e59-4683-b91e-a2090f05bc83"
      },
      "source": [
        "digit=int(input(\"enter a number \"));\n",
        "l1=int(input(\"enter lower limit\"));\n",
        "l2=int(input(\"enter upper limit\"));\n",
        "\n",
        "cnt = 0;\n",
        "\n",
        "while(l1!=l2):\n",
        "  buffer = l1;\n",
        "  while(l1!=0):\n",
        "    r=l1%10;\n",
        "    if(r==digit):\n",
        "      cnt=cnt+1;\n",
        "    l1=l1//10;\n",
        "  l1=buffer;\n",
        "  l1=l1+1;\n",
        "    \n",
        "print(cnt);"
      ],
      "execution_count": 11,
      "outputs": [
        {
          "output_type": "stream",
          "text": [
            "enter a number 6\n",
            "enter lower limit60\n",
            "enter upper limit65\n",
            "5\n"
          ],
          "name": "stdout"
        }
      ]
    },
    {
      "cell_type": "markdown",
      "metadata": {
        "id": "FB9ItO3KkVPZ",
        "colab_type": "text"
      },
      "source": [
        "count of palindrome"
      ]
    },
    {
      "cell_type": "code",
      "metadata": {
        "id": "vFzSVfEwjhSz",
        "colab_type": "code",
        "colab": {
          "base_uri": "https://localhost:8080/",
          "height": 231
        },
        "outputId": "9a5d4ca0-ae0f-484c-fb3d-b9752a8eae0f"
      },
      "source": [
        "def countofpalindrome(n1,n2):\n",
        "  cnt=0;\n",
        "  \n",
        "while n1 !=n2:\n",
        "  sum=0;\n",
        "  buffer=n1;\n",
        "  while n1!=0:\n",
        "    r=n1%10;\n",
        "    sum=(sum*10)+r;\n",
        "    n1=n1 // 10;\n",
        "  if buffer==sum:\n",
        "    cnt=cnt+1;\n",
        "  n1=buffer;\n",
        "  n1=n1+1;\n",
        "return cnt;\n",
        "\n",
        "\n",
        "print(countofpalindrome(10,30));\n",
        "print(countofpalindrome(1,10000000))"
      ],
      "execution_count": 20,
      "outputs": [
        {
          "output_type": "error",
          "ename": "NameError",
          "evalue": "ignored",
          "traceback": [
            "\u001b[0;31m---------------------------------------------------------------------------\u001b[0m",
            "\u001b[0;31mNameError\u001b[0m                                 Traceback (most recent call last)",
            "\u001b[0;32m<ipython-input-20-553c919c2a18>\u001b[0m in \u001b[0;36m<module>\u001b[0;34m()\u001b[0m\n\u001b[1;32m      2\u001b[0m   \u001b[0mcnt\u001b[0m\u001b[0;34m=\u001b[0m\u001b[0;36m0\u001b[0m\u001b[0;34m;\u001b[0m\u001b[0;34m\u001b[0m\u001b[0;34m\u001b[0m\u001b[0m\n\u001b[1;32m      3\u001b[0m \u001b[0;34m\u001b[0m\u001b[0m\n\u001b[0;32m----> 4\u001b[0;31m \u001b[0;32mwhile\u001b[0m \u001b[0mn1\u001b[0m \u001b[0;34m!=\u001b[0m\u001b[0mn2\u001b[0m\u001b[0;34m:\u001b[0m\u001b[0;34m\u001b[0m\u001b[0;34m\u001b[0m\u001b[0m\n\u001b[0m\u001b[1;32m      5\u001b[0m   \u001b[0msum\u001b[0m\u001b[0;34m=\u001b[0m\u001b[0;36m0\u001b[0m\u001b[0;34m;\u001b[0m\u001b[0;34m\u001b[0m\u001b[0;34m\u001b[0m\u001b[0m\n\u001b[1;32m      6\u001b[0m   \u001b[0mbuffer\u001b[0m\u001b[0;34m=\u001b[0m\u001b[0mn1\u001b[0m\u001b[0;34m;\u001b[0m\u001b[0;34m\u001b[0m\u001b[0;34m\u001b[0m\u001b[0m\n",
            "\u001b[0;31mNameError\u001b[0m: name 'n1' is not defined"
          ]
        }
      ]
    },
    {
      "cell_type": "code",
      "metadata": {
        "id": "zJCvj-46kOZh",
        "colab_type": "code",
        "colab": {}
      },
      "source": [
        ""
      ],
      "execution_count": 0,
      "outputs": []
    }
  ]
}