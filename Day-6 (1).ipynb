{
 "cells": [
  {
   "cell_type": "markdown",
   "metadata": {},
   "source": [
    "# files:-"
   ]
  },
  {
   "cell_type": "code",
   "execution_count": 5,
   "metadata": {},
   "outputs": [
    {
     "name": "stdout",
     "output_type": "stream",
     "text": [
      "file has been sucessfully updated\n"
     ]
    }
   ],
   "source": [
    "def createfile(filename):\n",
    "    f = open(filename,\"w\")\n",
    "    for i in range(10):\n",
    "        f.write(\"this is %d line\\n\"%i)\n",
    "    print(\"file has been sucessfully updated\")\n",
    "    f.close()\n",
    "    return\n",
    "\n",
    "createfile(\"file1.txt\")"
   ]
  },
  {
   "cell_type": "code",
   "execution_count": 8,
   "metadata": {},
   "outputs": [
    {
     "name": "stdout",
     "output_type": "stream",
     "text": [
      "Test 0 line\n",
      "Test 1 line\n",
      "Test 2 line\n",
      "Test 3 line\n",
      "Test 4 line\n",
      "Test 5 line\n",
      "Test 6 line\n",
      "Test 7 line\n",
      "Test 8 line\n",
      "Test 9 line\n",
      "\n"
     ]
    }
   ],
   "source": [
    "#Funtion for reading the file data\n",
    "def readfile(filename):\n",
    "    f = open(filename,\"r\")\n",
    "    if f.mode == \"r\":\n",
    "        x = f.read()\n",
    "        print(x)\n",
    "    f.close()\n",
    "    return\n",
    "\n",
    "readfile(\"file1.txt\")"
   ]
  },
  {
   "cell_type": "code",
   "execution_count": 10,
   "metadata": {},
   "outputs": [
    {
     "name": "stdout",
     "output_type": "stream",
     "text": [
      "File is created successfully and data is written\n"
     ]
    }
   ],
   "source": [
    "def createfile(filename):\n",
    "    f = open(filename,\"w\")\n",
    "    for i in range(10):\n",
    "        f.write(\"Test %d line\\n\"% i)\n",
    "    print(\"File is created successfully and data is written\")\n",
    "    f.close()\n",
    "    return\n",
    "createfile(\"file1.txt\")"
   ]
  },
  {
   "cell_type": "code",
   "execution_count": 17,
   "metadata": {},
   "outputs": [],
   "source": [
    "#Data to append\n",
    "#Function to append the data to existing file \n",
    "def appendData(filename):\n",
    "    f = open(filename,\"a\")\n",
    "    f.write(\"New line 1\\n\")\n",
    "    f.write(\"New line 2\\n\")\n",
    "    f.close()\n",
    "    return\n",
    "appendData(\"file1.txt\")"
   ]
  },
  {
   "cell_type": "code",
   "execution_count": 19,
   "metadata": {},
   "outputs": [
    {
     "name": "stdout",
     "output_type": "stream",
     "text": [
      " Volume in drive C has no label.\n",
      " Volume Serial Number is B27C-E44D\n",
      "\n",
      " Directory of C:\\Users\\mplab\\Desktop\\ProgrammingAndProblemSolving\n",
      "\n",
      "27-06-2019  10:51    <DIR>          .\n",
      "27-06-2019  10:51    <DIR>          ..\n",
      "27-06-2019  09:40    <DIR>          .ipynb_checkpoints\n",
      "22-06-2019  15:59             8,821 Day 2 -controlflowstatements.ipynb\n",
      "26-06-2019  17:05            19,997 Day -5.ipynb\n",
      "22-06-2019  09:32             3,819 Day-1 Basics.ipynb\n",
      "25-06-2019  09:38            12,207 day-3.ipynb\n",
      "25-06-2019  17:01             9,562 Day-4.ipynb\n",
      "27-06-2019  10:51             2,926 Day-6.ipynb\n",
      "27-06-2019  10:51               238 file1.txt\n",
      "               7 File(s)         57,570 bytes\n",
      "               3 Dir(s)  266,347,917,312 bytes free\n"
     ]
    }
   ],
   "source": [
    "ls"
   ]
  },
  {
   "cell_type": "code",
   "execution_count": 43,
   "metadata": {},
   "outputs": [
    {
     "name": "stdout",
     "output_type": "stream",
     "text": [
      "Test 0 line\n",
      "Test 1 line\n",
      "Test 2 line\n",
      "Test 3 line\n",
      "Test 4 line\n",
      "Test 5 line\n",
      "Test 6 line\n",
      "Test 7 line\n",
      "Test 8 line\n",
      "Test 9 line\n",
      "New line 1\n",
      "New lineNew line 1\n",
      "New lineNew line 1\n",
      "New lineNew line 1\n",
      "New line 2\n",
      "New line 1\n",
      "New line 2\n",
      "\n"
     ]
    }
   ],
   "source": [
    "#Funtion for reading the file data\n",
    "def readfile(filename):\n",
    "    f = open(filename,\"r\")\n",
    "    if f.mode == \"r\":\n",
    "        x = f.read()\n",
    "        print(x)\n",
    "    f.close()\n",
    "    return\n",
    "\n",
    "readfile(\"file1.txt\")"
   ]
  },
  {
   "cell_type": "code",
   "execution_count": 26,
   "metadata": {},
   "outputs": [
    {
     "name": "stdout",
     "output_type": "stream",
     "text": [
      "0\n"
     ]
    }
   ],
   "source": [
    "#word count using File I/O Python\n",
    "def dataAnalysiswordcount(filename,word):\n",
    "    f=open(filename,\"r\")\n",
    "    if f.mode==\"r\":\n",
    "        x=f.read()\n",
    "        lst=x.split()\n",
    "    cnt = lst.count(word)\n",
    "    return cnt\n",
    "\n",
    "print(dataAnalysiswordcount(\"file1.txt\",\"rest\"))"
   ]
  },
  {
   "cell_type": "code",
   "execution_count": 27,
   "metadata": {},
   "outputs": [
    {
     "name": "stdout",
     "output_type": "stream",
     "text": [
      "221\n"
     ]
    }
   ],
   "source": [
    "# Function to count of characters in the file\n",
    "\n",
    "def countCharacter(filename):\n",
    "    f=open(filename,\"r\")\n",
    "    if f.mode==\"r\":\n",
    "        x=f.read()\n",
    "        lst=list(x)\n",
    "    return len(lst)\n",
    "print(countCharacter(\"file1.txt\"))"
   ]
  },
  {
   "cell_type": "code",
   "execution_count": 38,
   "metadata": {},
   "outputs": [
    {
     "data": {
      "text/plain": [
       "221"
      ]
     },
     "execution_count": 38,
     "metadata": {},
     "output_type": "execute_result"
    }
   ],
   "source": [
    "# Function to count the upper case character from the given file\n",
    "\n",
    "def uppercasecount(filename):\n",
    "    cntupper=0\n",
    "    f=open(filename,\"r\")\n",
    "    if f.mode==\"r\":\n",
    "        x=f.read()\n",
    "        lst=list(x)\n",
    "    for i in lst:\n",
    "        if i.upper():\n",
    "            cntupper+=1\n",
    "    return cntupper\n",
    "uppercasecount(\"file1.txt\")"
   ]
  },
  {
   "cell_type": "code",
   "execution_count": 41,
   "metadata": {},
   "outputs": [
    {
     "data": {
      "text/plain": [
       "18"
      ]
     },
     "execution_count": 41,
     "metadata": {},
     "output_type": "execute_result"
    }
   ],
   "source": [
    "# Function to count of lines in given file\n",
    "\n",
    "def countlines(filename):\n",
    "    f=open(filename,\"r\")\n",
    "    if f.mode==\"r\":\n",
    "        x=f.read()\n",
    "        lst=x.split(\"\\n\")\n",
    "    return len(lst)\n",
    "\n",
    "countlines(\"file1.txt\")"
   ]
  },
  {
   "cell_type": "markdown",
   "metadata": {},
   "source": [
    "### Regular Expressions\n",
    "\n",
    "* Pattern matching\n",
    "* symbolic Notation of a pattern\n",
    "  *pattern(RE)represents the set of the values that given pattern\n",
    "* [0-9]-->Any Digit\n",
    "* [a-z]-->Any lower case characters\n",
    "* [A-Z]-->Any upper case characters\n",
    "* [2468]-->All the single digit multiples of 2\n",
    "* [0-9]{1}$-->only single digit number \n",
    "  .cap(^)symbol is used for start of regular expression\n",
    "  \n",
    "  .Dollar symbol us used to end of the regular expression\n",
    "\n",
    "*^[0-9]{3}$-->regular expression accept only three digit number\n",
    "\n",
    "*^[a-z]{5}$-->it only accepts the 5 character string that to lower case character\n",
    "\n",
    "# ^[a-zA-z]{6}$-->A string can be of upper/lower case chars and len of 6\n",
    "\n",
    "#^[a-zA-Z]{6-15}$--> A string min of 6 characters and max of 15 characters(upper and lower case chars)\n",
    "\n",
    "#^[a-zA-Z0-9]{6-15}$- -upper,lower and Digits\n",
    "\n",
    "#^[6-9][0-9]{9}$ -- RE for Indian Number\n",
    "\n",
    "#^[0][6-9][0-9]{9}$ -- RE for Indian Mobile Number\n",
    "\n",
    "#[+][9][1][6-9][0-9]{9}$ -- RE for Indian Mobile Number\n",
    "\n",
    "\n",
    "EmailID Validation:userName@DomainName.extension\n",
    "\n",
    "**username:\n",
    "          *Length will be:[6-15]\n",
    "          *No spl chars apart from_\n",
    "          *should not begin and end with_\n",
    "          *character set :All digits and lower case alphabets_\n",
    "          \n",
    "**DomainName:\n",
    "            *Length od domain:[3,18]\n",
    "            *no spl characters\n",
    "            *charcter set:all digits and lower case alphabets\n",
    "            \n",
    "**Extension:\n",
    "            *length of extension:[2,4]\n",
    "            *no spl characters\n",
    "            *character set:all digits and lower case alphabets\n",
    "            \n",
    " Regular Expression EmailID:\n",
    " ^[0-9a-z][0-9a-z_.]{5,14}[0-9a-z][@][a-z0-9]{3,18}[.][a-z]{2,4}$\n",
    " \n",
    " **^[a]...[z]$--> Any string of length 5 start char 'a' and end char will be 'z'\n",
    " \n",
    " **^[a].*[z]$--> Any string of any length that start  from 'a' and end"
   ]
  },
  {
   "cell_type": "code",
   "execution_count": null,
   "metadata": {},
   "outputs": [],
   "source": [
    "# Regular Expression for Indian Mobile Number\n",
    "# Validation for EmailID username@domainName.extension\n",
    "\n",
    "#987654321 -- First  digit [6-9][0-9]\n",
    "\n",
    "#09876543210 -- First Digit Zero  second digit[6-9] Last 9 digits[0-9]\n",
    "\n",
    "# +919876543210 -- First + sign, second digit 9,third digit 1,\n",
    "                   # Fourth digit [6-9] rest of 9 digit[0-9]\n",
    "                "
   ]
  },
  {
   "cell_type": "code",
   "execution_count": 55,
   "metadata": {},
   "outputs": [
    {
     "name": "stdout",
     "output_type": "stream",
     "text": [
      "True\n",
      "False\n",
      "False\n"
     ]
    }
   ],
   "source": [
    "import re\n",
    "def phoneNumberValidate(phone):\n",
    "    pattern = '^[6-9][0-9]{9}$'\n",
    "    phone = str(phone)\n",
    "    if re.match(pattern,phone):\n",
    "        return True\n",
    "    return False\n",
    "print(phoneNumberValidate(9966338855))\n",
    "print(phoneNumberValidate(99668855))\n",
    "print(phoneNumberValidate(+919966338855))"
   ]
  },
  {
   "cell_type": "code",
   "execution_count": 50,
   "metadata": {},
   "outputs": [
    {
     "name": "stdout",
     "output_type": "stream",
     "text": [
      "True\n",
      "True\n",
      "True\n"
     ]
    }
   ],
   "source": [
    "import re\n",
    "def phoneNumberValidate(phone):\n",
    "    pattern = '^[6-9][0-9]{9}$|^[0][6-9][0-9]{9}$|[+][9][1][6-9][0-9]{9}$'\n",
    "    phone = str(phone)\n",
    "    if re.match(pattern,phone):\n",
    "        return True\n",
    "    return False\n",
    "print(phoneNumberValidate(\"9899668855\"))\n",
    "print(phoneNumberValidate(\"09899668855\"))\n",
    "print(phoneNumberValidate(\"+919899668855\"))"
   ]
  },
  {
   "cell_type": "code",
   "execution_count": null,
   "metadata": {},
   "outputs": [],
   "source": [
    "# RE -- Validation of Roll Number\n",
    "### 152U1A0501"
   ]
  },
  {
   "cell_type": "code",
   "execution_count": 54,
   "metadata": {},
   "outputs": [
    {
     "name": "stdout",
     "output_type": "stream",
     "text": [
      "True\n",
      "False\n"
     ]
    }
   ],
   "source": [
    "import re\n",
    "def validateRollNumber(number):\n",
    "    number=str(number)\n",
    "    pattern=\"^[1][5][2][U][1][A][0][1-9][0-6][0-9]$\";\n",
    "    if re.match(pattern,number):\n",
    "        return True\n",
    "    return False\n",
    "print(validateRollNumber(\"152U1A0555\"))\n",
    "print(validateRollNumber(\"152U1A0485\"))"
   ]
  },
  {
   "cell_type": "code",
   "execution_count": null,
   "metadata": {},
   "outputs": [],
   "source": [
    "#validation for EmailID username@DomainName.extension\n"
   ]
  },
  {
   "cell_type": "code",
   "execution_count": 57,
   "metadata": {},
   "outputs": [
    {
     "name": "stdout",
     "output_type": "stream",
     "text": [
      "True\n",
      "False\n"
     ]
    }
   ],
   "source": [
    "import re\n",
    "def validateEmailID(email):\n",
    "    pattern=\"^[0-9a-z][0-9a-z_.]{4,13}[0-9a-z][@][a-z0-9]{3,18}[.][a-z]{2,4}$\"\n",
    "    if re.match(pattern,email):\n",
    "        return True\n",
    "    return False\n",
    "print(validateEmailID(\"anil.1889@gmail.com\"))\n",
    "print(validateEmailID(\"$anil.1889@gmail.com\"))"
   ]
  },
  {
   "cell_type": "code",
   "execution_count": null,
   "metadata": {},
   "outputs": [],
   "source": [
    "# Regular expression -- password\n",
    "# Parameters :6-15\n",
    "# Accept lower case,upper case,spl symbols(@,$,#,!)"
   ]
  },
  {
   "cell_type": "code",
   "execution_count": 62,
   "metadata": {},
   "outputs": [
    {
     "name": "stdout",
     "output_type": "stream",
     "text": [
      "False\n",
      "False\n"
     ]
    }
   ],
   "source": [
    "import re\n",
    "def validatepassword(s):\n",
    "    pattern = \"^[a-zA0-9!@#$]{6,15}$\"\n",
    "    if re.match(pattern,s):\n",
    "        return True\n",
    "    return False\n",
    "print(validatepassword(\"Anil1889@21#M\"))\n",
    "print(validatepassword(\"Anil1889@21#M11111112222\"))"
   ]
  },
  {
   "cell_type": "code",
   "execution_count": null,
   "metadata": {},
   "outputs": [],
   "source": []
  }
 ],
 "metadata": {
  "kernelspec": {
   "display_name": "Python 3",
   "language": "python",
   "name": "python3"
  },
  "language_info": {
   "codemirror_mode": {
    "name": "ipython",
    "version": 3
   },
   "file_extension": ".py",
   "mimetype": "text/x-python",
   "name": "python",
   "nbconvert_exporter": "python",
   "pygments_lexer": "ipython3",
   "version": "3.7.3"
  }
 },
 "nbformat": 4,
 "nbformat_minor": 2
}
